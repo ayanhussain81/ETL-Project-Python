{
 "cells": [
  {
   "cell_type": "markdown",
   "id": "0a114d5d",
   "metadata": {},
   "source": [
    "# Import Libraries"
   ]
  },
  {
   "cell_type": "code",
   "execution_count": 1,
   "id": "7dc32d1c",
   "metadata": {},
   "outputs": [],
   "source": [
    "import requests\n",
    "import pandas as pd\n",
    "import numpy as np\n",
    "from bs4 import BeautifulSoup\n",
    "from datetime import datetime\n",
    "from io import StringIO\n",
    "import sqlite3\n",
    "# import icecream"
   ]
  },
  {
   "cell_type": "code",
   "execution_count": 2,
   "id": "0242c421",
   "metadata": {},
   "outputs": [],
   "source": [
    "# pip install db-sqlite3"
   ]
  },
  {
   "cell_type": "code",
   "execution_count": 3,
   "id": "3ed21ac6",
   "metadata": {},
   "outputs": [],
   "source": [
    "# %pip install requests pandas numpy bs4 sqlite3 lxml"
   ]
  },
  {
   "cell_type": "code",
   "execution_count": 4,
   "id": "d4098d70",
   "metadata": {},
   "outputs": [],
   "source": [
    "soup = BeautifulSoup(requests.get('https://web.archive.org/web/20230908091635/https://en.wikipedia.org/wiki/List_of_largest_banks').text,'html.parser')\n",
    "table = soup.find('span',string='By market capitalization').find_next('table')\n",
    "df_main = pd.read_html(StringIO(str(table)))[0]\n"
   ]
  },
  {
   "cell_type": "code",
   "execution_count": 5,
   "id": "29da1699",
   "metadata": {},
   "outputs": [
    {
     "data": {
      "text/html": [
       "<div>\n",
       "<style scoped>\n",
       "    .dataframe tbody tr th:only-of-type {\n",
       "        vertical-align: middle;\n",
       "    }\n",
       "\n",
       "    .dataframe tbody tr th {\n",
       "        vertical-align: top;\n",
       "    }\n",
       "\n",
       "    .dataframe thead th {\n",
       "        text-align: right;\n",
       "    }\n",
       "</style>\n",
       "<table border=\"1\" class=\"dataframe\">\n",
       "  <thead>\n",
       "    <tr style=\"text-align: right;\">\n",
       "      <th></th>\n",
       "      <th>Rank</th>\n",
       "      <th>Bank name</th>\n",
       "      <th>Market cap (US$ billion)</th>\n",
       "    </tr>\n",
       "  </thead>\n",
       "  <tbody>\n",
       "    <tr>\n",
       "      <th>0</th>\n",
       "      <td>1</td>\n",
       "      <td>JPMorgan Chase</td>\n",
       "      <td>432.92</td>\n",
       "    </tr>\n",
       "    <tr>\n",
       "      <th>1</th>\n",
       "      <td>2</td>\n",
       "      <td>Bank of America</td>\n",
       "      <td>231.52</td>\n",
       "    </tr>\n",
       "    <tr>\n",
       "      <th>2</th>\n",
       "      <td>3</td>\n",
       "      <td>Industrial and Commercial Bank of China</td>\n",
       "      <td>194.56</td>\n",
       "    </tr>\n",
       "    <tr>\n",
       "      <th>3</th>\n",
       "      <td>4</td>\n",
       "      <td>Agricultural Bank of China</td>\n",
       "      <td>160.68</td>\n",
       "    </tr>\n",
       "    <tr>\n",
       "      <th>4</th>\n",
       "      <td>5</td>\n",
       "      <td>HDFC Bank</td>\n",
       "      <td>157.91</td>\n",
       "    </tr>\n",
       "    <tr>\n",
       "      <th>5</th>\n",
       "      <td>6</td>\n",
       "      <td>Wells Fargo</td>\n",
       "      <td>155.87</td>\n",
       "    </tr>\n",
       "    <tr>\n",
       "      <th>6</th>\n",
       "      <td>7</td>\n",
       "      <td>HSBC Holdings PLC</td>\n",
       "      <td>148.90</td>\n",
       "    </tr>\n",
       "    <tr>\n",
       "      <th>7</th>\n",
       "      <td>8</td>\n",
       "      <td>Morgan Stanley</td>\n",
       "      <td>140.83</td>\n",
       "    </tr>\n",
       "    <tr>\n",
       "      <th>8</th>\n",
       "      <td>9</td>\n",
       "      <td>China Construction Bank</td>\n",
       "      <td>139.82</td>\n",
       "    </tr>\n",
       "    <tr>\n",
       "      <th>9</th>\n",
       "      <td>10</td>\n",
       "      <td>Bank of China</td>\n",
       "      <td>136.81</td>\n",
       "    </tr>\n",
       "  </tbody>\n",
       "</table>\n",
       "</div>"
      ],
      "text/plain": [
       "   Rank                                Bank name  Market cap (US$ billion)\n",
       "0     1                           JPMorgan Chase                    432.92\n",
       "1     2                          Bank of America                    231.52\n",
       "2     3  Industrial and Commercial Bank of China                    194.56\n",
       "3     4               Agricultural Bank of China                    160.68\n",
       "4     5                                HDFC Bank                    157.91\n",
       "5     6                              Wells Fargo                    155.87\n",
       "6     7                        HSBC Holdings PLC                    148.90\n",
       "7     8                           Morgan Stanley                    140.83\n",
       "8     9                  China Construction Bank                    139.82\n",
       "9    10                            Bank of China                    136.81"
      ]
     },
     "execution_count": 5,
     "metadata": {},
     "output_type": "execute_result"
    }
   ],
   "source": [
    "df_main"
   ]
  },
  {
   "cell_type": "markdown",
   "id": "93052f7d",
   "metadata": {},
   "source": [
    "# Logs\n"
   ]
  },
  {
   "cell_type": "code",
   "execution_count": 6,
   "id": "16035218",
   "metadata": {},
   "outputs": [],
   "source": [
    "def save_logs(message):\n",
    "    with open('./logs/code_log.txt','a') as f:\n",
    "        f.write(f'{datetime.now()}: {message}')"
   ]
  },
  {
   "cell_type": "code",
   "execution_count": 7,
   "id": "79cb8f70",
   "metadata": {},
   "outputs": [
    {
     "data": {
      "text/plain": [
       "datetime.datetime(2025, 6, 21, 19, 50, 32, 69566)"
      ]
     },
     "execution_count": 7,
     "metadata": {},
     "output_type": "execute_result"
    }
   ],
   "source": [
    "datetime.now()"
   ]
  },
  {
   "cell_type": "markdown",
   "id": "b994930f",
   "metadata": {},
   "source": [
    "# Extract"
   ]
  },
  {
   "cell_type": "code",
   "execution_count": 8,
   "id": "593eedda",
   "metadata": {},
   "outputs": [],
   "source": [
    "def extract(url):\n",
    "    soup = BeautifulSoup(requests.get(url).text,'html.parser')\n",
    "    table = soup.find('span',string='By market capitalization').find_next('table')\n",
    "    df = pd.read_html(StringIO(str(table)))[0]\n",
    "    save_logs(\"Data has been extracted\")\n",
    "    return df\n"
   ]
  },
  {
   "cell_type": "code",
   "execution_count": 9,
   "id": "f7738af0",
   "metadata": {},
   "outputs": [],
   "source": [
    "# C:\\Users\\Teacher\\AppData\\Local\\Temp\\ipykernel_7712\\2908454608.py:6: FutureWarning: Passing literal html to 'read_html' is deprecated and will be removed in a future version. To read from a literal string, wrap it in a 'StringIO' object.\n",
    "#   df = pd.read_html(str(table))[0]\n"
   ]
  },
  {
   "cell_type": "markdown",
   "id": "447f5ba7",
   "metadata": {},
   "source": [
    "## Transform"
   ]
  },
  {
   "cell_type": "code",
   "execution_count": 10,
   "id": "8663c038",
   "metadata": {},
   "outputs": [],
   "source": [
    "def transform(df, csv_path):\n",
    "    exchange_rate =  pd.read_csv(csv_path,index_col=0).to_dict()['Rate']\n",
    "    print(exchange_rate)\n",
    "    df['Market cap (Pkr billion)s'] = df['Market cap (US$ billion)'] *  exchange_rate['Pkr']\n",
    "    df['Market cap (Inr billion)s'] = df['Market cap (US$ billion)'] * exchange_rate['Inr']\n",
    "    df['Market cap (Eur billion)s'] = df['Market cap (US$ billion)'] * exchange_rate['Eur']\n",
    "    df['Market cap (GBP billion)s'] = df['Market cap (US$ billion)'] * exchange_rate['GBP']\n",
    "    # print(df)\n",
    "    \n",
    "    # save logs\n",
    "    save_logs('Data Transformation Completed')\n",
    "\n",
    "    return df\n"
   ]
  },
  {
   "cell_type": "markdown",
   "id": "8ebd2f50",
   "metadata": {},
   "source": [
    "## Load"
   ]
  },
  {
   "cell_type": "code",
   "execution_count": 11,
   "id": "29aa1ebd",
   "metadata": {},
   "outputs": [
    {
     "name": "stdout",
     "output_type": "stream",
     "text": [
      "[(1,)]\n"
     ]
    }
   ],
   "source": [
    "datebase_name = './Ouput/banks_db.db'\n",
    "with sqlite3.connect(datebase_name) as conn:\n",
    "    cursor = conn.cursor()\n",
    "    result =cursor.execute(\"select 1\")\n",
    "    print(result.fetchall())\n",
    "\n"
   ]
  },
  {
   "cell_type": "code",
   "execution_count": 17,
   "id": "d5597771",
   "metadata": {},
   "outputs": [],
   "source": [
    "def load_data_csv(df,output_csv_path):\n",
    "    df.to_csv(output_csv_path)\n",
    "\n",
    "    # save logs\n",
    "    save_logs('Data saved to csv file.')\n",
    "\n",
    "    return None"
   ]
  },
  {
   "cell_type": "code",
   "execution_count": null,
   "id": "0d7bdd78",
   "metadata": {},
   "outputs": [],
   "source": [
    "# load to sqlite\n",
    "def load_data_sql(df,table_name,conn):\n",
    "    df.to_sql(table_name,conn,if_exists='replace',index=False)\n",
    "    \n",
    "def run_query(table_name,conn):\n",
    "    cursor = conn.cursor()\n",
    "    result =cursor.execute(('Select * from Largest_banks'))\n",
    "    print(result.fetchall())"
   ]
  },
  {
   "cell_type": "code",
   "execution_count": 19,
   "id": "c341ebdc",
   "metadata": {},
   "outputs": [
    {
     "name": "stdout",
     "output_type": "stream",
     "text": [
      "{'Pkr': 283.0, 'Inr': 86.0, 'Eur': 0.87, 'GBP': 0.74}\n",
      "[(1,), (2,), (3,), (4,), (5,), (6,), (7,), (8,), (9,), (10,)]\n"
     ]
    }
   ],
   "source": [
    "if __name__ == '__main__':\n",
    "    url = 'https://web.archive.org/web/20230908091635/https://en.wikipedia.org/wiki/List_of_largest_banks'\n",
    "    csv_path = './input/exchange_rate.csv'\n",
    "    output_csv_path = './Ouput/transformed_exchange_rate.csv'    \n",
    "    datebase_name = './Ouput/banks_db.db'\n",
    "    table_name = 'Largest_banks'\n",
    "\n",
    "    df = extract(url)\n",
    "\n",
    "    df = transform(df,csv_path)\n",
    "    load_data_csv(df,output_csv_path)\n",
    "    # print(df)\n",
    "\n",
    "    with sqlite3.connect(datebase_name) as conn:\n",
    "        load_data_sql(df,table_name,conn)\n",
    "        run_query(table_name,conn)\n",
    "        "
   ]
  },
  {
   "cell_type": "code",
   "execution_count": null,
   "id": "ec8029f1",
   "metadata": {},
   "outputs": [],
   "source": []
  },
  {
   "cell_type": "code",
   "execution_count": null,
   "id": "dbfae9cf",
   "metadata": {},
   "outputs": [],
   "source": []
  }
 ],
 "metadata": {
  "kernelspec": {
   "display_name": "project_env",
   "language": "python",
   "name": "python3"
  },
  "language_info": {
   "codemirror_mode": {
    "name": "ipython",
    "version": 3
   },
   "file_extension": ".py",
   "mimetype": "text/x-python",
   "name": "python",
   "nbconvert_exporter": "python",
   "pygments_lexer": "ipython3",
   "version": "3.13.3"
  }
 },
 "nbformat": 4,
 "nbformat_minor": 5
}
